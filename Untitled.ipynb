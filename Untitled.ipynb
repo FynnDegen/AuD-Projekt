{
 "cells": [
  {
   "cell_type": "code",
   "execution_count": 1,
   "id": "06899de2",
   "metadata": {},
   "outputs": [],
   "source": [
    "#include <iostream>\n",
    "#include <algoviz/SVG.hpp>\n",
    "#include <vector>\n",
    "#include <cstdlib>\n",
    "#include <ctime>\n",
    "\n",
    "AlgoViz::clear();\n",
    "\n",
    "int size = 100;\n",
    "Rect field[31][31];\n",
    "\n",
    "const int ROWS = 31;\n",
    "const int COLS = 31;\n",
    "\n",
    "// Create a 2D array to represent the maze\n",
    "int maze[ROWS][COLS];\n",
    "\n",
    "\n",
    "SVG screen = SVG(1600, 1600, \"Dont talk about the BOX club!\");\n",
    "//screen.hide();\n"
   ]
  },
  {
   "cell_type": "code",
   "execution_count": 2,
   "id": "8dedbbe6",
   "metadata": {},
   "outputs": [
    {
     "name": "stderr",
     "output_type": "stream",
     "text": [
      "\u001b[1minput_line_9:2:32: \u001b[0m\u001b[0;1;31merror: \u001b[0m\u001b[1mfunction definition is not allowed here\u001b[0m\n",
      " void createMaze(int x, int y) {\n",
      "\u001b[0;1;32m                               ^\n",
      "\u001b[0m\u001b[1m<<< cling interactive line includer >>>:1:1: \u001b[0m\u001b[0;1;31merror: \u001b[0m\u001b[1mexpected '}'\u001b[0m\n",
      "\u001b[1minput_line_9:1:42: \u001b[0m\u001b[0;1;30mnote: \u001b[0mto match this '{'\u001b[0m\n",
      "void __cling_Un1Qu33(void* vpClingValue) {\n",
      "\u001b[0;1;32m                                         ^\n",
      "\u001b[0m"
     ]
    },
    {
     "ename": "Interpreter Error",
     "evalue": "",
     "output_type": "error",
     "traceback": [
      "Interpreter Error: "
     ]
    }
   ],
   "source": [
    "void createMaze(int x, int y) {\n",
    " int main() {\n",
    "    // Seed the random number generator\n",
    "    std::srand(std::time(0));\n",
    "\n",
    "    // Initialize the maze to be all walls\n",
    "    for (int i = 0; i < ROWS; i++) {\n",
    "        for (int j = 0; j < COLS; j++) {\n",
    "            maze[i][j] = 0;\n",
    "        }\n",
    "    }\n",
    "\n",
    "    // Create the outer walls\n",
    "    for (int i = 0; i < ROWS; i++) {\n",
    "        maze[i][0] = 1;\n",
    "        maze[i][COLS-1] = 1;\n",
    "    }\n",
    "    for (int j = 0; j < COLS; j++) {\n",
    "        maze[0][j] = 1;\n",
    "        maze[ROWS-1][j] = 1;\n",
    "    }\n",
    "    // Create the maze starting from a random cell\n",
    "    createMaze(1, 1);\n",
    "\n",
    "    // Print the maze\n",
    "    for (int i = 0; i < ROWS; i++) {\n",
    "        for (int j = 0; j < COLS; j++) {\n",
    "            std::cout << maze[i][j] << \" \";\n",
    "        }\n",
    "        std::cout << std::endl;\n",
    "    }\n",
    "\n",
    "    return 0;\n",
    "}"
   ]
  },
  {
   "cell_type": "code",
   "execution_count": null,
   "id": "a762dc3d",
   "metadata": {},
   "outputs": [],
   "source": [
    "int main() {\n",
    "    // Seed the random number generator\n",
    "    std::srand(std::time(0));\n",
    "\n",
    "    // Initialize the maze to be all walls\n",
    "    for (int i = 0; i < ROWS; i++) {\n",
    "        for (int j = 0; j < COLS; j++) {\n",
    "            maze[i][j] = 0;\n",
    "        }\n",
    "    }\n",
    "\n",
    "    // Create the outer walls\n",
    "    for (int i = 0; i < ROWS; i++) {\n",
    "        maze[i][0] = 1;\n",
    "        maze[i][COLS-1] = 1;\n",
    "    }\n",
    "    for (int j = 0; j < COLS; j++) {\n",
    "        maze[0][j] = 1;\n",
    "        maze[ROWS-1][j] = 1;\n",
    "    }\n",
    "    // Create the maze starting from a random cell\n",
    "    createMaze(1, 1);\n",
    "\n",
    "    // Print the maze\n",
    "    for (int i = 0; i < ROWS; i++) {\n",
    "        for (int j = 0; j < COLS; j++) {\n",
    "            std::cout << maze[i][j] << \" \";\n",
    "        }\n",
    "        std::cout << std::endl;\n",
    "    }\n",
    "\n",
    "    return 0;\n",
    "}"
   ]
  },
  {
   "cell_type": "code",
   "execution_count": null,
   "id": "c99527aa",
   "metadata": {},
   "outputs": [],
   "source": [
    "main();"
   ]
  },
  {
   "cell_type": "code",
   "execution_count": null,
   "id": "0e69bfe8",
   "metadata": {},
   "outputs": [],
   "source": [
    "for (int i = 0; i < 30; i++){\n",
    "     for (int k = 0; k < 30; k++){\n",
    "         if(maze[i][k] == 1){\n",
    "            field[i][k] = Rect(i*50, k*50, 50, 50, &screen);\n",
    "         }       \n",
    "     }\n",
    "}"
   ]
  },
  {
   "cell_type": "code",
   "execution_count": null,
   "id": "407b6d13",
   "metadata": {},
   "outputs": [],
   "source": [
    "screen.show();"
   ]
  },
  {
   "cell_type": "code",
   "execution_count": null,
   "id": "465a9c15",
   "metadata": {},
   "outputs": [],
   "source": [
    "for (int i = 3; i < 7; i++){\n",
    "    for (int k = 4; k < 6; k++){\n",
    "        field[i][k].removeFromView();\n",
    "    }\n",
    "}"
   ]
  }
 ],
 "metadata": {
  "kernelspec": {
   "display_name": "C++14",
   "language": "C++14",
   "name": "xcpp14"
  },
  "language_info": {
   "codemirror_mode": "text/x-c++src",
   "file_extension": ".cpp",
   "mimetype": "text/x-c++src",
   "name": "c++",
   "version": "14"
  }
 },
 "nbformat": 4,
 "nbformat_minor": 5
}
