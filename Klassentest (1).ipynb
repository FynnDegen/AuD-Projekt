{
 "cells": [
  {
   "cell_type": "code",
   "execution_count": 1,
   "id": "a824cdc1",
   "metadata": {},
   "outputs": [],
   "source": [
    "#include <algoviz/SVG.hpp>\n",
    "#include <iostream>"
   ]
  },
  {
   "cell_type": "code",
   "execution_count": 2,
   "id": "363b88c2",
   "metadata": {},
   "outputs": [],
   "source": [
    "//field.clear();\n",
    "SVG field = SVG(1500, 1500);"
   ]
  },
  {
   "cell_type": "code",
   "execution_count": 3,
   "id": "a6fd55c5",
   "metadata": {},
   "outputs": [],
   "source": [
    "class Tile{\n",
    "    \n",
    "    public:\n",
    "            int posX;\n",
    "            int posY;\n",
    "            int state;\n",
    "            SVG *field;\n",
    "            Image tile;\n",
    "            \n",
    "    Tile(){\n",
    "        posX = 0;\n",
    "        posY = 0;\n",
    "        state = 1;\n",
    "        field = nullptr;\n",
    "       \n",
    "    }\n",
    "    \n",
    "    Tile(int posX, int posY, int state, SVG *field){\n",
    "        this -> posX = posX;\n",
    "        this -> posY = posY;\n",
    "        this -> state = state;\n",
    "        this -> field = field;\n",
    "        if(state == 1){\n",
    "            tile = Image(\"dot.png\",posX + 50, posY + 50, 100, 100, field);\n",
    "        }else{\n",
    "           tile = Image(\"dot.png\",posX + 50, posY + 50, 0, 0, field);\n",
    "        }\n",
    "        \n",
    "    }\n",
    "    \n",
    "    \n",
    "}"
   ]
  },
  {
   "cell_type": "code",
   "execution_count": null,
   "id": "5de8a52a",
   "metadata": {},
   "outputs": [],
   "source": []
  },
  {
   "cell_type": "code",
   "execution_count": 4,
   "id": "674d0b27",
   "metadata": {},
   "outputs": [],
   "source": [
    "int walls[15][15] = {\n",
    "    {1,1,1,1,1,1,1,1,1,1,1,1,1,1,1},\n",
    "    {1,1,0,0,0,0,0,1,1,1,1,0,0,0,1},\n",
    "    {1,0,0,1,1,1,0,0,1,0,0,0,0,0,1},\n",
    "    {1,1,0,0,0,0,0,1,1,0,1,0,0,0,1},\n",
    "    {1,1,1,1,0,1,0,0,0,0,0,1,0,1,1},\n",
    "    {1,1,1,0,0,1,1,1,0,1,0,1,0,1,1},\n",
    "    {1,0,0,0,1,0,0,1,0,1,0,0,0,0,1},\n",
    "    {1,0,1,0,0,0,1,1,0,1,0,1,1,0,1},\n",
    "    {1,0,1,1,1,0,1,1,0,0,0,0,1,0,1},\n",
    "    {1,0,0,1,1,0,0,0,0,1,1,0,0,0,1},\n",
    "    {1,1,0,0,0,0,1,1,0,1,1,1,1,1,1},\n",
    "    {1,1,0,1,1,1,1,1,0,0,0,0,0,1,1},\n",
    "    {1,0,0,1,1,0,0,0,0,1,1,0,1,1,1},\n",
    "    {1,1,0,0,0,0,0,1,0,1,0,0,0,0,1},\n",
    "    {1,1,1,1,1,1,1,1,1,1,1,1,1,1,1},   \n",
    "};\n",
    "Tile test[15][15];"
   ]
  },
  {
   "cell_type": "code",
   "execution_count": 5,
   "id": "6d7e3864",
   "metadata": {},
   "outputs": [],
   "source": [
    "for(int i = 0; i < 15; i++){\n",
    "    for(int k = 0; k < 15; k++){\n",
    "        test[k][i] = Tile(i*100, k*100, walls[k][i], &field);\n",
    "    }\n",
    "}"
   ]
  },
  {
   "cell_type": "code",
   "execution_count": null,
   "id": "68769747",
   "metadata": {},
   "outputs": [],
   "source": []
  }
 ],
 "metadata": {
  "kernelspec": {
   "display_name": "C++14",
   "language": "C++14",
   "name": "xcpp14"
  },
  "language_info": {
   "codemirror_mode": "text/x-c++src",
   "file_extension": ".cpp",
   "mimetype": "text/x-c++src",
   "name": "c++",
   "version": "14"
  }
 },
 "nbformat": 4,
 "nbformat_minor": 5
}
