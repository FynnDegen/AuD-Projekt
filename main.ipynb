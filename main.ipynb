{
 "cells": [
  {
   "cell_type": "code",
   "execution_count": 1,
   "id": "suspended-person",
   "metadata": {},
   "outputs": [],
   "source": [
    "#include \"src/tilemap.hpp\"\n",
    "#include \"src/player.hpp\"\n",
    "#include \"src/enemylist.hpp\""
   ]
  },
  {
   "cell_type": "code",
   "execution_count": null,
   "id": "premier-hotel",
   "metadata": {},
   "outputs": [],
   "source": [
    "SVG canvas = SVG(1500, 1600, \"CyberCrawler 2077\");\n",
    "\n",
    "TileMap tileMap = TileMap(&canvas);\n",
    "\n",
    "EnemyList enemyList = EnemyList(&tileMap, &canvas);\n",
    "Player player = Player(4, 5, &tileMap, &enemyList, &canvas);\n",
    "\n",
    "std::string key = canvas.lastKey();\n",
    "while(key != \"p\") {\n",
    "    key = canvas.lastKey();\n",
    "    player.keyMovement(key, &enemyList);\n",
    "    for(int i = 0; i < 4; i++) {\n",
    "        enemyList.getEnemy(i) -> autoMove();\n",
    "    }\n",
    "}"
   ]
  }
 ],
 "metadata": {
  "kernelspec": {
   "display_name": "C++17",
   "language": "C++17",
   "name": "xcpp17"
  },
  "language_info": {
   "codemirror_mode": "text/x-c++src",
   "file_extension": ".cpp",
   "mimetype": "text/x-c++src",
   "name": "c++",
   "version": "17"
  }
 },
 "nbformat": 4,
 "nbformat_minor": 5
}
