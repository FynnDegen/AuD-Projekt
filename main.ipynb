{
 "cells": [
  {
   "cell_type": "code",
   "execution_count": 1,
   "id": "rough-cricket",
   "metadata": {},
   "outputs": [],
   "source": [
    "#include \"tilemap.hpp\"\n",
    "#include \"player.hpp\"\n",
    "#include \"enemylist.hpp\""
   ]
  },
  {
   "cell_type": "code",
   "execution_count": 2,
   "id": "adjustable-exhibit",
   "metadata": {},
   "outputs": [],
   "source": [
    "SVG canvas = SVG(1500, 1600, \"CyberCrawler 2077\");\n",
    "\n",
    "TileMap tileMap = TileMap(&canvas);\n",
    "\n",
    "EnemyList enemyList = EnemyList(&tileMap, &canvas);\n",
    "Player player = Player(4, 5, &tileMap, &enemyList, &canvas);\n",
    "\n",
    "std::string key = canvas.lastKey();\n",
    "while(key != \"p\") {\n",
    "    key = canvas.lastKey();\n",
    "    player.keyMovement(key, &enemyList);\n",
    "}"
   ]
  },
  {
   "cell_type": "code",
   "execution_count": null,
   "id": "bc185b34",
   "metadata": {},
   "outputs": [],
   "source": []
  },
  {
   "cell_type": "code",
   "execution_count": null,
   "id": "0fc93111",
   "metadata": {},
   "outputs": [],
   "source": [
    "a"
   ]
  }
 ],
 "metadata": {
  "kernelspec": {
   "display_name": "C++14",
   "language": "C++14",
   "name": "xcpp14"
  },
  "language_info": {
   "codemirror_mode": "text/x-c++src",
   "file_extension": ".cpp",
   "mimetype": "text/x-c++src",
   "name": "c++",
   "version": "14"
  }
 },
 "nbformat": 4,
 "nbformat_minor": 5
}
