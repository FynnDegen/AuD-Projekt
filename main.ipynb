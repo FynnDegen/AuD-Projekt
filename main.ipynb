{
 "cells": [
  {
   "cell_type": "code",
   "execution_count": 1,
   "id": "civil-nickel",
   "metadata": {},
   "outputs": [],
   "source": [
    "#include <chrono>\n",
    "#include \"src/tilemap.hpp\"\n",
    "#include \"src/player.hpp\""
   ]
  },
  {
   "cell_type": "code",
   "execution_count": 2,
   "id": "rough-mouse",
   "metadata": {},
   "outputs": [],
   "source": [
    "uint64_t timeSinceEpochMillisec() {\n",
    "  using namespace std::chrono;\n",
    "  return duration_cast<milliseconds>(system_clock::now().time_since_epoch()).count();\n",
    "}"
   ]
  },
  {
   "cell_type": "code",
   "execution_count": null,
   "id": "collaborative-oracle",
   "metadata": {},
   "outputs": [],
   "source": [
    "SVG canvas = SVG(2000, 1500, \"CyberCrawler 2077\");\n",
    "\n",
    "Rect background = Rect(-100, -100, 2500, 2000, &canvas);\n",
    "background.setFill(\"gray\");\n",
    "\n",
    "TileMap tileMap = TileMap(&canvas);\n",
    "EnemyList enemyList = EnemyList(&tileMap, &canvas);\n",
    "ItemList itemList = ItemList(&tileMap, &canvas);\n",
    "Player player = Player(tileMap.getRandomFreeTile() -> getMapX(), tileMap.getRandomFreeTile() -> getMapY(), &tileMap, &enemyList, &itemList, &canvas);\n",
    "\n",
    "uint64_t t = timeSinceEpochMillisec();\n",
    "\n",
    "\n",
    "std::string key = canvas.lastKey();\n",
    "while(key != \"p\") {\n",
    "    key = canvas.lastKey();\n",
    "    player.keyMovement(key, &enemyList);\n",
    "    if (t + 1000 <= timeSinceEpochMillisec() && enemyList.getSize() != 0) { \n",
    "        for(int i = 0; i < enemyList.getSize(); i++) {\n",
    "            player.setHP(player.getHP() - enemyList.getEnemy(i) -> autoMove());\n",
    "        }\n",
    "        t = timeSinceEpochMillisec();\n",
    "    }\n",
    "}"
   ]
  },
  {
   "cell_type": "code",
   "execution_count": null,
   "id": "joint-export",
   "metadata": {},
   "outputs": [],
   "source": []
  }
 ],
 "metadata": {
  "kernelspec": {
   "display_name": "C++14",
   "language": "C++14",
   "name": "xcpp14"
  },
  "language_info": {
   "codemirror_mode": "text/x-c++src",
   "file_extension": ".cpp",
   "mimetype": "text/x-c++src",
   "name": "c++",
   "version": "14"
  }
 },
 "nbformat": 4,
 "nbformat_minor": 5
}
