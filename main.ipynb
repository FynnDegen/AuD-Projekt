{
 "cells": [
  {
   "cell_type": "code",
   "execution_count": 1,
   "id": "signal-stamp",
   "metadata": {},
   "outputs": [],
   "source": [
    "#include <chrono>\n",
    "#include \"src/tilemap.hpp\"\n",
    "#include \"src/player.hpp\"\n",
    "#include \"src/item.hpp\"\n",
    "#include \"src/itemmanager.hpp\"\n",
    "#include \"src/enemylist.hpp\""
   ]
  },
  {
   "cell_type": "code",
   "execution_count": 2,
   "id": "viral-indonesia",
   "metadata": {},
   "outputs": [],
   "source": [
    "uint64_t timeSinceEpochMillisec() {\n",
    "  using namespace std::chrono;\n",
    "  return duration_cast<milliseconds>(system_clock::now().time_since_epoch()).count();\n",
    "}"
   ]
  },
  {
   "cell_type": "code",
   "execution_count": 3,
   "id": "competitive-being",
   "metadata": {},
   "outputs": [
    {
     "name": "stdout",
     "output_type": "stream",
     "text": [
      "ErrorErrorErrorErrorErrorErrorErrorErrorErrorErrorErrorErrorErrorErrorErrorErrorErrorError"
     ]
    }
   ],
   "source": [
    "SVG canvas = SVG(1500, 1600, \"CyberCrawler 2077\");\n",
    "\n",
    "TileMap tileMap = TileMap(&canvas);\n",
    "EnemyList enemyList = EnemyList(&tileMap, &canvas);\n",
    "Player player = Player(tileMap.getRandomFreeTile() -> getMapX(), tileMap.getRandomFreeTile() -> getMapY(), &tileMap, &enemyList, &canvas);\n",
    "\n",
    "uint64_t t = timeSinceEpochMillisec();\n",
    "\n",
    "ItemManager im = ItemManager(&player);\n",
    "//Spawnt die Objekte in das Spielfeld (Itemart(1 = Leben, 2 = Score, 3, = ATK), Position im Feld(x, y), Zeiger aufs Spielfeld)\n",
    "im.spawnItem(1, 5, 8, &canvas);\n",
    "im.spawnItem(2, 4, 7, &canvas);\n",
    "im.spawnItem(3, 3, 7, &canvas);\n",
    "int itemPosX = 0; //Variabeln für die Zerstörung der Items\n",
    "int itemPosY = 0;\n",
    "bool isOnItem = false;\n",
    "\n",
    "std::string key = canvas.lastKey();\n",
    "while(key != \"p\") {\n",
    "    key = canvas.lastKey();\n",
    "    player.keyMovement(key, &enemyList);\n",
    "    if (t + 1000 <= timeSinceEpochMillisec() && enemyList.getSize() != 0) { \n",
    "        for(int i = 0; i < enemyList.getSize(); i++) {\n",
    "            player.setHP(player.getHP() - enemyList.getEnemy(i) -> autoMove());\n",
    "        }\n",
    "        t = timeSinceEpochMillisec();\n",
    "    }\n",
    "    //Für die Zerstörung von Items zuständig\n",
    "    for(int i = 0; i < 3; i++){\n",
    "        im.itemUpdate(&isOnItem, &itemPosX, &itemPosY, i);\n",
    "    }\n",
    "    if(isOnItem){\n",
    "       im.deleteItem(itemPosX, itemPosY);\n",
    "       isOnItem = false;\n",
    "    }\n",
    "}"
   ]
  },
  {
   "cell_type": "code",
   "execution_count": null,
   "id": "royal-hampton",
   "metadata": {},
   "outputs": [],
   "source": []
  }
 ],
 "metadata": {
  "kernelspec": {
   "display_name": "C++14",
   "language": "C++14",
   "name": "xcpp14"
  },
  "language_info": {
   "codemirror_mode": "text/x-c++src",
   "file_extension": ".cpp",
   "mimetype": "text/x-c++src",
   "name": "c++",
   "version": "14"
  }
 },
 "nbformat": 4,
 "nbformat_minor": 5
}
