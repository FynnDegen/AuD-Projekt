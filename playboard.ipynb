{
 "cells": [
  {
   "cell_type": "code",
   "execution_count": 5,
   "id": "83de2930",
   "metadata": {},
   "outputs": [],
   "source": [
    "#include <iostream> \n",
    "#include <algoviz/SVG.hpp>\n",
    "\n",
    "class Tile{\n",
    "    private:\n",
    "        //Image textur;\n",
    "        //Image *texturPointer = &textur;\n",
    "        \n",
    "    \n",
    "    public:\n",
    "        int posX;\n",
    "        int posY;\n",
    "        int tag;\n",
    "        SVG *screen;\n",
    "        Rect *test;\n",
    "    \n",
    "    Tile(){\n",
    "        posX = 0;\n",
    "        posY = 0;\n",
    "        tag = 0;\n",
    "        screen = nullptr;\n",
    "        test = nullptr;\n",
    "    }\n",
    "    \n",
    "    Tile(int posX, int posY, int tag, SVG *screen){\n",
    "        this->posX = posX;\n",
    "        this->posY = posY;\n",
    "        this->tag  = tag;\n",
    "        this->screen = screen;\n",
    "        \n",
    "        \n",
    "        test = new Rect(posX, posY, 100, 100, screen);\n",
    "        \n",
    "    }\n",
    "    \n",
    "    \n",
    "    int getX(){\n",
    "        return posX;\n",
    "    }\n",
    "    int getY(){\n",
    "        return posY;\n",
    "    }\n",
    "    int getTag(){\n",
    "        return tag;\n",
    "    }\n",
    "}"
   ]
  },
  {
   "cell_type": "code",
   "execution_count": 6,
   "id": "ddfb0977",
   "metadata": {},
   "outputs": [
    {
     "name": "stderr",
     "output_type": "stream",
     "text": [
      "\u001b[1minput_line_15:3:13: \u001b[0m\u001b[0;1;31merror: \u001b[0m\u001b[1mno matching constructor for initialization of '__cling_N56::Tile'\u001b[0m\n",
      "Tile test = Tile(10, 10, 1, screen);\n",
      "\u001b[0;1;32m            ^    ~~~~~~~~~~~~~~~~~\n",
      "\u001b[0m\u001b[1minput_line_14:22:5: \u001b[0m\u001b[0;1;30mnote: \u001b[0mcandidate constructor not viable: no known conversion from 'SVG' to 'SVG *' for 4th argument; take the address of the argument with &\u001b[0m\n",
      "    Tile(int posX, int posY, int tag, SVG *screen){\n",
      "\u001b[0;1;32m    ^\n",
      "\u001b[0m\u001b[1minput_line_14:1:7: \u001b[0m\u001b[0;1;30mnote: \u001b[0mcandidate constructor (the implicit copy constructor) not viable: requires 1 argument, but 4 were provided\u001b[0m\n",
      "class Tile{\n",
      "\u001b[0;1;32m      ^\n",
      "\u001b[0m\u001b[1minput_line_14:1:7: \u001b[0m\u001b[0;1;30mnote: \u001b[0mcandidate constructor (the implicit move constructor) not viable: requires 1 argument, but 4 were provided\u001b[0m\n",
      "\u001b[1minput_line_14:14:5: \u001b[0m\u001b[0;1;30mnote: \u001b[0mcandidate constructor not viable: requires 0 arguments, but 4 were provided\u001b[0m\n",
      "    Tile(){\n",
      "\u001b[0;1;32m    ^\n",
      "\u001b[0m"
     ]
    },
    {
     "ename": "Interpreter Error",
     "evalue": "",
     "output_type": "error",
     "traceback": [
      "Interpreter Error: "
     ]
    }
   ],
   "source": [
    "SVG screen = SVG(100, 100);\n",
    "Tile test = Tile(10, 10, 1, screen);"
   ]
  },
  {
   "cell_type": "code",
   "execution_count": 16,
   "id": "d94c7a3b",
   "metadata": {},
   "outputs": [],
   "source": [
    "\n",
    "\n",
    "AlgoViz::clear();\n",
    "\n",
    "int walls[15][15] = {\n",
    "    {1,1,1,1,1,1,1,1,1,1,1,1,1,1,1},\n",
    "    {1,1,0,0,0,0,0,1,1,1,1,0,0,0,1},\n",
    "    {1,0,0,1,1,1,0,0,1,0,0,0,0,0,1},\n",
    "    {1,1,0,0,0,0,0,1,1,0,1,0,0,0,1},\n",
    "    {1,1,1,1,0,1,0,0,0,0,0,1,0,1,1},\n",
    "    {1,1,1,0,0,1,1,1,0,1,0,1,0,1,1},\n",
    "    {1,0,0,0,1,0,0,1,0,1,0,0,0,0,1},\n",
    "    {1,0,1,0,0,0,1,1,0,1,0,1,1,0,1},\n",
    "    {1,0,1,1,1,0,1,1,0,0,0,0,1,0,1},\n",
    "    {1,0,0,1,1,0,0,0,0,1,1,0,0,0,1},\n",
    "    {1,1,0,0,0,0,1,1,0,1,1,1,1,1,1},\n",
    "    {1,1,0,1,1,1,1,1,0,0,0,0,0,1,1},\n",
    "    {1,0,0,1,1,0,0,0,0,1,1,0,1,1,1},\n",
    "    {1,1,0,0,0,0,0,1,0,1,0,0,0,0,1},\n",
    "    {1,1,1,1,1,1,1,1,1,1,1,1,1,1,1},   \n",
    "};\n",
    "\n",
    "Rect player;\n",
    "string key = \" \";\n",
    "\n",
    "SVG screen = SVG(1500, 1500, \"Dont talk about the BOX club!\");"
   ]
  },
  {
   "cell_type": "code",
   "execution_count": 17,
   "id": "42cad5cd",
   "metadata": {},
   "outputs": [],
   "source": [
    "for (int i = 0; i < 15; i++){\n",
    "     for (int k = 0; k < 15; k++){\n",
    "            field[k][i] = Tile(i*100, k*100, walls[k][i]);\n",
    "     }\n",
    "}"
   ]
  },
  {
   "cell_type": "code",
   "execution_count": 12,
   "id": "feaadd01",
   "metadata": {},
   "outputs": [],
   "source": [
    "player = Rect(1200, 200, 100, 100, &screen);\n",
    "player.setFill(\"red\");"
   ]
  },
  {
   "cell_type": "code",
   "execution_count": 13,
   "id": "b77e6125",
   "metadata": {},
   "outputs": [],
   "source": [
    "while(key != \"q\"){\n",
    "    key = screen.lastKey();\n",
    "    \n",
    "    if (key == \"ArrowUp\") {\n",
    "        player.moveTo(player.getX(), player.getY() - 100);\n",
    "    } else if (key == \"ArrowDown\") {\n",
    "        player.moveTo(player.getX(), player.getY() + 100);\n",
    "    } else if (key == \"ArrowLeft\") {\n",
    "        player.moveTo(player.getX() - 100, player.getY());\n",
    "    } else if (key == \"ArrowRight\") {\n",
    "        player.moveTo(player.getX() + 100, player.getY());\n",
    "    }\n",
    "}"
   ]
  },
  {
   "cell_type": "code",
   "execution_count": 20,
   "id": "15bbe85e",
   "metadata": {},
   "outputs": [
    {
     "name": "stdout",
     "output_type": "stream",
     "text": [
      "111111111111111\n",
      "110000011110001\n",
      "100111001000001\n",
      "110000011010001\n",
      "111101000001011\n",
      "111001110101011\n",
      "100010010100001\n",
      "101000110101101\n",
      "101110110000101\n",
      "100110000110001\n",
      "110000110111111\n",
      "110111110000011\n",
      "100110000110111\n",
      "110000010100001\n",
      "111111111111111\n"
     ]
    }
   ],
   "source": [
    "for (int i = 0; i < 15; i++){\n",
    "     for (int k = 0; k < 15; k++){\n",
    "            cout << walls[i][k];\n",
    "     }\n",
    "    cout << endl;\n",
    "}"
   ]
  },
  {
   "cell_type": "code",
   "execution_count": null,
   "id": "1bd5430f",
   "metadata": {},
   "outputs": [],
   "source": []
  }
 ],
 "metadata": {
  "kernelspec": {
   "display_name": "C++14",
   "language": "C++14",
   "name": "xcpp14"
  },
  "language_info": {
   "codemirror_mode": "text/x-c++src",
   "file_extension": ".cpp",
   "mimetype": "text/x-c++src",
   "name": "c++",
   "version": "14"
  }
 },
 "nbformat": 4,
 "nbformat_minor": 5
}
