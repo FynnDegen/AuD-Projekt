{
 "cells": [
  {
   "cell_type": "code",
   "execution_count": null,
   "id": "adolescent-bread",
   "metadata": {},
   "outputs": [],
   "source": [
    "#include <algoviz/SVG.hpp>\n",
    "\n",
    "AlgoViz::clear();\n",
    "\n",
    "SVG canvas = SVG(1920, 1080);\n",
    "Image background = Image(\"bild.png\", 1920/2, 1080/2, 1920, 1080, &canvas);\n",
    "\n",
    "Rect testBG = Rect(0, 0, 1920, 1080, &canvas);\n",
    "testBG.setFill(\"lightBlue\");\n",
    "\n",
    "Image title = Image(\"arrow.png\", 960, 200, 300, 200, &canvas); \n",
    "\n",
    "Rect buttonRim1 = Rect(500, 350, 1000, 200, &canvas);\n",
    "buttonRim1.setFill(\"white\");\n",
    "Rect button1 = Rect(510, 360, 980, 180, &canvas);\n",
    "\n",
    "Rect buttonRim2 = Rect(500, 600, 1000, 200, &canvas);\n",
    "buttonRim2.setFill(\"white\");\n",
    "Rect button2 = Rect(510, 610, 980, 180, &canvas);\n",
    "\n",
    "Rect buttonRim3 = Rect(500, 850, 1000, 200, &canvas);\n",
    "buttonRim3.setFill(\"white\");\n",
    "Rect button3 = Rect(510, 860, 980, 180, &canvas);"
   ]
  }
 ],
 "metadata": {
  "kernelspec": {
   "display_name": "C++14",
   "language": "C++14",
   "name": "xcpp14"
  },
  "language_info": {
   "codemirror_mode": "text/x-c++src",
   "file_extension": ".cpp",
   "mimetype": "text/x-c++src",
   "name": "c++",
   "version": "14"
  }
 },
 "nbformat": 4,
 "nbformat_minor": 5
}
