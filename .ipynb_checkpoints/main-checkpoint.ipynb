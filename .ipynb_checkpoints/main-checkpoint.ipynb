{
 "cells": [
  {
   "cell_type": "code",
   "execution_count": 1,
   "id": "suspended-person",
   "metadata": {},
   "outputs": [],
   "source": [
    "#include <chrono>\n",
    "#include \"src/tilemap.hpp\"\n",
    "#include \"src/player.hpp\"\n",
    "#include \"src/enemylist.hpp\""
   ]
  },
  {
   "cell_type": "code",
   "execution_count": 2,
   "id": "007520fd",
   "metadata": {},
   "outputs": [],
   "source": [
    "uint64_t timeSinceEpochMillisec() {\n",
    "  using namespace std::chrono;\n",
    "  return duration_cast<milliseconds>(system_clock::now().time_since_epoch()).count();\n",
    "}"
   ]
  },
  {
   "cell_type": "code",
   "execution_count": null,
   "id": "premier-hotel",
   "metadata": {},
   "outputs": [],
   "source": [
    "SVG canvas = SVG(1500, 1600, \"CyberCrawler 2077\");\n",
    "\n",
    "TileMap tileMap = TileMap(&canvas);\n",
    "EnemyList enemyList = EnemyList(&tileMap, &canvas);\n",
    "Player player = Player(4, 5, &tileMap, &enemyList, &canvas);\n",
    "\n",
    "uint64_t t = timeSinceEpochMillisec();\n",
    "\n",
    "std::string key = canvas.lastKey();\n",
    "while(key != \"p\") {\n",
    "    key = canvas.lastKey();\n",
    "    player.keyMovement(key, &enemyList);\n",
    "    if (t + 1000 <= timeSinceEpochMillisec() && enemyList.getSize() != 0) { \n",
    "        for(int i = 0; i < enemyList.getSize(); i++) {\n",
    "            player.setHP(player.getHP() - enemyList.getEnemy(i) -> autoMove());\n",
    "        }\n",
    "        t = timeSinceEpochMillisec();\n",
    "    }\n",
    "}"
   ]
  }
 ],
 "metadata": {
  "kernelspec": {
   "display_name": "C++14",
   "language": "C++14",
   "name": "xcpp14"
  },
  "language_info": {
   "codemirror_mode": "text/x-c++src",
   "file_extension": ".cpp",
   "mimetype": "text/x-c++src",
   "name": "c++",
   "version": "14"
  }
 },
 "nbformat": 4,
 "nbformat_minor": 5
}
