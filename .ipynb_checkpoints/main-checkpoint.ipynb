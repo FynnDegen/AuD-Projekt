{
 "cells": [
  {
   "cell_type": "code",
   "execution_count": null,
   "id": "rough-cricket",
   "metadata": {},
   "outputs": [
    {
     "name": "stderr",
     "output_type": "stream",
     "text": [
      "In file included from input_line_7:2:\n",
      "In file included from ./player.hpp:4:\n",
      "\u001b[1m./enemylist.hpp:47:23: \u001b[0m\u001b[0;1;31merror: \u001b[0m\u001b[1mno matching member function for call to 'erase'\u001b[0m\n",
      "            enemyList.erase(k);\n",
      "\u001b[0;1;32m            ~~~~~~~~~~^~~~~\n",
      "\u001b[0m\u001b[1m/opt/conda/bin/../lib/gcc/x86_64-conda-linux-gnu/9.3.0/../../../../x86_64-conda-linux-gnu/include/c++/9.3.0/bits/stl_vector.h:1427:7: \u001b[0m\u001b[0;1;30mnote: \u001b[0mcandidate function not viable: no known conversion from 'int' to 'std::vector<Enemy, std::allocator<Enemy> >::const_iterator' (aka '__normal_iterator<const Enemy *, std::vector<Enemy, std::allocator<Enemy> > >') for 1st argument\u001b[0m\n",
      "      erase(const_iterator __position)\n",
      "\u001b[0;1;32m      ^\n",
      "\u001b[0m\u001b[1m/opt/conda/bin/../lib/gcc/x86_64-conda-linux-gnu/9.3.0/../../../../x86_64-conda-linux-gnu/include/c++/9.3.0/bits/stl_vector.h:1454:7: \u001b[0m\u001b[0;1;30mnote: \u001b[0mcandidate function not viable: requires 2 arguments, but 1 was provided\u001b[0m\n",
      "      erase(const_iterator __first, const_iterator __last)\n",
      "\u001b[0;1;32m      ^\n",
      "\u001b[0m"
     ]
    }
   ],
   "source": [
    "#include \"tilemap.hpp\"\n",
    "#include \"player.hpp\"\n",
    "#include \"enemylist.hpp\""
   ]
  },
  {
   "cell_type": "code",
   "execution_count": null,
   "id": "adjustable-exhibit",
   "metadata": {},
   "outputs": [],
   "source": [
    "SVG canvas = SVG(1500, 1500, \"CyberCrawler 2077\");\n",
    "\n",
    "TileMap tileMap = TileMap(&canvas);\n",
    "\n",
    "EnemyList enemyList = EnemyList(&tileMap, &canvas);\n",
    "Player player = Player(4, 5, &tileMap, &enemyList, &canvas);\n",
    "\n",
    "std::string key = canvas.lastKey();\n",
    "while(key != \"p\") {\n",
    "    key = canvas.lastKey();\n",
    "    player.keyMovement(key, &enemyList);\n",
    "}"
   ]
  },
  {
   "cell_type": "code",
   "execution_count": null,
   "id": "opposite-bridges",
   "metadata": {},
   "outputs": [],
   "source": []
  },
  {
   "cell_type": "code",
   "execution_count": null,
   "id": "painful-baltimore",
   "metadata": {},
   "outputs": [],
   "source": []
  },
  {
   "cell_type": "code",
   "execution_count": null,
   "id": "forward-optimization",
   "metadata": {},
   "outputs": [],
   "source": []
  }
 ],
 "metadata": {
  "kernelspec": {
   "display_name": "C++14",
   "language": "C++14",
   "name": "xcpp14"
  },
  "language_info": {
   "codemirror_mode": "text/x-c++src",
   "file_extension": ".cpp",
   "mimetype": "text/x-c++src",
   "name": "c++",
   "version": "14"
  }
 },
 "nbformat": 4,
 "nbformat_minor": 5
}
