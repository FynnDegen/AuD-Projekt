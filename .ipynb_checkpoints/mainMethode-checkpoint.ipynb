{
 "cells": [
  {
   "cell_type": "code",
   "execution_count": 1,
   "id": "f434b1dc",
   "metadata": {},
   "outputs": [
    {
     "name": "stderr",
     "output_type": "stream",
     "text": [
      "In file included from input_line_7:4:\n",
      "\u001b[1m./TileMap.hpp:164:5: \u001b[0m\u001b[0;1;35mwarning: \u001b[0m\u001b[1mcontrol may reach end of non-void function [-Wreturn-type]\u001b[0m\n",
      "    }    \n",
      "\u001b[0;1;32m    ^\n",
      "\u001b[0m"
     ]
    }
   ],
   "source": [
    "#include <iostream>\n",
    "#include <algoviz/SVG.hpp>\n",
    "#include \"Tile.hpp\"\n",
    "#include \"TileMap.hpp\"\n",
    "#include \"Sprite.hpp\"\n",
    "#include \"Sword.hpp\"\n",
    "#include \"Player.hpp\"\n",
    "#include \"Enemy.hpp\""
   ]
  },
  {
   "cell_type": "code",
   "execution_count": 2,
   "id": "adaf8913",
   "metadata": {},
   "outputs": [
    {
     "name": "stderr",
     "output_type": "stream",
     "text": [
      "In file included from input_line_7:2:\n",
      "\u001b[1m/opt/conda/include/algoviz/SVG.hpp:885:16: \u001b[0m\u001b[0;1;35mwarning: \u001b[0m\u001b[1mnull passed to a callee that requires a non-null argument [-Wnonnull]\u001b[0m\n",
      "    this->id = original.svg->addElement(this);\n",
      "\u001b[0;1;32m               ^~~~~~~~~~~~\n",
      "\u001b[0m"
     ]
    },
    {
     "ename": "Interpreter Exception",
     "evalue": "",
     "output_type": "error",
     "traceback": [
      "Interpreter Exception: "
     ]
    }
   ],
   "source": [
    "SVG canvas = SVG(1500, 1500, \"CyberCrawler 2077\");\n",
    "TileMap tileMap = TileMap(&canvas);\n",
    "\n",
    "Player player = Player(5, 7, &tileMap, &canvas);\n",
    "Enemy enemy = Enemy(12, 2, &tileMap, &canvas);\n",
    "//enemy[0] = Enemy(12, 2, &tileMap, &canvas);\n",
    "//enemy[1] = Enemy(5, 9, &tileMap, &canvas);\n",
    "//enemy[2] = Enemy(2, 2, &tileMap, &canvas);\n",
    "\n",
    "std::string key = canvas.lastKey();\n",
    "int hit = 0; //globale Variable! =1 wenn Schwert nen Gegner gehitet hat, sonst =0\n",
    "int swordX;\n",
    "int swordY;\n",
    "\n",
    "//Image b = Image(\"gfx/battery.png\", 250, 150, 100, 100, &canvas);\n",
    "//Image c = Image(\"gfx/crystal.png\", 450, 150, 100, 100, &canvas);\n",
    "//cout << enemy[0].getBoardX() << \" \" << enemy[0].getBoardY() << std::endl;\n",
    "//cout << enemy[1].getBoardX() << \" \" << enemy[1].getBoardY() << std::endl;\n",
    "//cout << enemy[2].getBoardX() << \" \" << enemy[2].getBoardY() << std::endl;\n",
    "\n",
    "while(key != \"p\") {\n",
    "    key = canvas.lastKey();\n",
    "    player.keyMovement(key, hit, swordX, swordY);\n",
    "    if (hit == 1){\n",
    "       for (int i = 0; i < 3; i++){\n",
    "           \n",
    "       }\n",
    "    }\n",
    "    hit = 0;\n",
    "}"
   ]
  },
  {
   "cell_type": "code",
   "execution_count": null,
   "id": "1da97797",
   "metadata": {},
   "outputs": [],
   "source": []
  }
 ],
 "metadata": {
  "kernelspec": {
   "display_name": "C++14",
   "language": "C++14",
   "name": "xcpp14"
  },
  "language_info": {
   "codemirror_mode": "text/x-c++src",
   "file_extension": ".cpp",
   "mimetype": "text/x-c++src",
   "name": "c++",
   "version": "14"
  }
 },
 "nbformat": 4,
 "nbformat_minor": 5
}
