{
 "cells": [
  {
   "cell_type": "code",
   "execution_count": 1,
   "id": "f434b1dc",
   "metadata": {},
   "outputs": [],
   "source": [
    "#include <iostream>\n",
    "#include <algoviz/SVG.hpp>\n",
    "#include \"Tile.hpp\"\n",
    "#include \"TileMap.hpp\"\n",
    "#include \"Sprite.hpp\"\n",
    "#include \"Sword.hpp\"\n",
    "#include \"Player.hpp\""
   ]
  },
  {
   "cell_type": "code",
   "execution_count": null,
   "id": "ed0b8d7d",
   "metadata": {},
   "outputs": [],
   "source": [
    "class Enemy{\n",
    "    private:\n",
    "        int hp;\n",
    "        int attDmg;\n",
    "        int attSpd;\n",
    "    \n",
    "        int mapPosX;\n",
    "        int mapPosY;\n",
    "        int x;\n",
    "        int y;\n",
    "        int direc;\n",
    "    \n",
    "        SVG *canvas;\n",
    "        TileMap *tileMap;\n",
    "        \n",
    "        Image enemy;\n",
    "    \n",
    "    public:\n",
    "        Enemy(){\n",
    "        \n",
    "        }\n",
    "    \n",
    "        Enemy(int pMapPosX, int pMapPosY, TileMap *tileMap, SVG *canvas){\n",
    "            mapPosX = pMapPosX;\n",
    "            mapPosY = pMapPosY;\n",
    "            this -> canvas = canvas;\n",
    "            this -> tileMap = tileMap;\n",
    "            x = tileMap -> getTilePosX(mapPosX, mapPosY);\n",
    "            y = tileMap -> getTilePosY(mapPosX, mapPosY);\n",
    "            \n",
    "            \n",
    "        }\n",
    "}"
   ]
  },
  {
   "cell_type": "code",
   "execution_count": 2,
   "id": "adaf8913",
   "metadata": {},
   "outputs": [],
   "source": [
    "SVG canvas = SVG(1700, 1500);\n",
    "TileMap tileMap = TileMap(&canvas);\n",
    "\n",
    "Player player = Player(12, 2, &tileMap, &canvas);\n",
    "\n",
    "std::string key = canvas.lastKey();\n",
    "\n",
    "while(key != \"p\") {\n",
    "    key = canvas.lastKey();\n",
    "    player.keyMovement(key);\n",
    "}"
   ]
  }
 ],
 "metadata": {
  "kernelspec": {
   "display_name": "C++14",
   "language": "C++14",
   "name": "xcpp14"
  },
  "language_info": {
   "codemirror_mode": "text/x-c++src",
   "file_extension": ".cpp",
   "mimetype": "text/x-c++src",
   "name": "c++",
   "version": "14"
  }
 },
 "nbformat": 4,
 "nbformat_minor": 5
}
