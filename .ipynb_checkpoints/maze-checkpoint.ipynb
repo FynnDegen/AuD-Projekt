{
 "cells": [
  {
   "cell_type": "code",
   "execution_count": 1,
   "id": "south-steal",
   "metadata": {},
   "outputs": [],
   "source": [
    "#include <iostream>\n",
    "#include <cstdlib>\n",
    "#include <ctime>\n",
    "#include <algoviz/SVG.hpp>\n",
    "\n",
    "const int ROWS = 15;\n",
    "const int COLS = 15;\n",
    "SVG test = SVG(1500, 1500);\n",
    "Rect lul[15][15];\n",
    "// Create a 2D array to represent the maze\n",
    "int maze[ROWS][COLS];"
   ]
  },
  {
   "cell_type": "code",
   "execution_count": 2,
   "id": "scientific-textbook",
   "metadata": {},
   "outputs": [],
   "source": [
    "void createMaze(int x, int y) {\n",
    "    // Mark the current cell as visited\n",
    "    maze[x][y] = 1;\n",
    "\n",
    "    // Create a random order of directions to move in\n",
    "    int directions[4] = {0, 1, 2, 3};\n",
    "    std::random_shuffle(directions, directions + 4);\n",
    "\n",
    "    // Move to the next cell in each direction\n",
    "    for (int i = 0; i < 4; i++) {\n",
    "        if (directions[i] == 0 && x > 1 && maze[x-2][y] == 0) {\n",
    "            maze[x-1][y] = 1;\n",
    "            createMaze(x-2, y);\n",
    "        }\n",
    "        if (directions[i] == 1 && x < ROWS-2 && maze[x+2][y] == 0) {\n",
    "            maze[x+1][y] = 1;\n",
    "            createMaze(x+2, y);\n",
    "        }\n",
    "        if (directions[i] == 2 && y > 1 && maze[x][y-2] == 0) {\n",
    "            maze[x][y-1] = 1;\n",
    "            createMaze(x, y-2);\n",
    "        }\n",
    "        if (directions[i] == 3 && y < COLS-2 && maze[x][y+2] == 0) {\n",
    "            maze[x][y+1] = 1;\n",
    "            createMaze(x, y+2);\n",
    "        }\n",
    "    }\n",
    "}"
   ]
  },
  {
   "cell_type": "code",
   "execution_count": 3,
   "id": "going-kruger",
   "metadata": {},
   "outputs": [],
   "source": [
    "int main() {\n",
    "// Seed the random number generator\n",
    "    std::srand(std::time(0));\n",
    "\n",
    "    // Initialize the maze to be all walls\n",
    "    for (int i = 0; i < ROWS; i++) {\n",
    "        for (int j = 0; j < COLS; j++) {\n",
    "            maze[i][j] = 0;\n",
    "        }\n",
    "    }\n",
    "\n",
    "    // Create the maze starting from a random cell\n",
    "    createMaze(std::rand() % ROWS, std::rand() % COLS);\n",
    "\n",
    "    // Print the maze\n",
    "    for (int i = 0; i < ROWS; i++) {\n",
    "        for (int j = 0; j < COLS; j++) {\n",
    "            if(maze[i][j] == 1){\n",
    "        lul[i][j] = Rect(100*j, 100*i, 100, 100, &test);\n",
    "        }}\n",
    "    }\n",
    "\n",
    "}"
   ]
  },
  {
   "cell_type": "code",
   "execution_count": 4,
   "id": "removable-circumstances",
   "metadata": {},
   "outputs": [
    {
     "data": {
      "text/plain": [
       "0"
      ]
     },
     "execution_count": 4,
     "metadata": {},
     "output_type": "execute_result"
    }
   ],
   "source": [
    "main()"
   ]
  },
  {
   "cell_type": "code",
   "execution_count": null,
   "id": "peripheral-nitrogen",
   "metadata": {},
   "outputs": [],
   "source": []
  },
  {
   "cell_type": "code",
   "execution_count": null,
   "id": "environmental-flash",
   "metadata": {},
   "outputs": [],
   "source": []
  },
  {
   "cell_type": "code",
   "execution_count": null,
   "id": "sorted-opportunity",
   "metadata": {},
   "outputs": [],
   "source": []
  },
  {
   "cell_type": "code",
   "execution_count": null,
   "id": "beautiful-definition",
   "metadata": {},
   "outputs": [],
   "source": []
  }
 ],
 "metadata": {
  "kernelspec": {
   "display_name": "C++14",
   "language": "C++14",
   "name": "xcpp14"
  },
  "language_info": {
   "codemirror_mode": "text/x-c++src",
   "file_extension": ".cpp",
   "mimetype": "text/x-c++src",
   "name": "c++",
   "version": "14"
  }
 },
 "nbformat": 4,
 "nbformat_minor": 5
}
