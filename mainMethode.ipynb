{
 "cells": [
  {
   "cell_type": "code",
   "execution_count": 1,
   "id": "f434b1dc",
   "metadata": {},
   "outputs": [],
   "source": [
    "#include <iostream>\n",
    "#include <algoviz/SVG.hpp>\n",
    "#include \"Tile.hpp\"\n",
    "#include \"TileMap.hpp\"\n",
    "#include \"Sprite.hpp\"\n",
    "#include \"Sword.hpp\"\n",
    "#include \"Player.hpp\"\n",
    "#include \"Enemy.hpp\""
   ]
  },
  {
   "cell_type": "code",
   "execution_count": 2,
   "id": "adaf8913",
   "metadata": {},
   "outputs": [
    {
     "name": "stdout",
     "output_type": "stream",
     "text": [
      "12 2\n",
      "5 9\n",
      "2 2\n"
     ]
    }
   ],
   "source": [
    "SVG canvas = SVG(1500, 1500, \"CyberCrawler 2077\");\n",
    "//canvas.hide();\n",
    "//SVG loading = SVG(1500,1500, \"Loading\");\n",
    "TileMap tileMap = TileMap(&canvas);\n",
    "\n",
    "Player player = Player(5, 7, &tileMap, &canvas);\n",
    "Enemy enemy[3];\n",
    "enemy[0] = Enemy(12, 2, &tileMap, &canvas);\n",
    "enemy[1] = Enemy(5, 9, &tileMap, &canvas);\n",
    "enemy[2] = Enemy(2, 2, &tileMap, &canvas);\n",
    "\n",
    "std::string key = canvas.lastKey();\n",
    "int hit = 0; //globale Variable! =1 wenn Schwert nen Gegner gehitet hat, sonst =0\n",
    "int swordX;\n",
    "int swordY;\n",
    "\n",
    "//Image b = Image(\"gfx/battery.png\", 250, 150, 100, 100, &canvas);\n",
    "//Image c = Image(\"gfx/crystal.png\", 450, 150, 100, 100, &canvas);\n",
    "cout << enemy[0].getBoardX() << \" \" << enemy[0].getBoardY() << std::endl;\n",
    "cout << enemy[1].getBoardX() << \" \" << enemy[1].getBoardY() << std::endl;\n",
    "cout << enemy[2].getBoardX() << \" \" << enemy[2].getBoardY() << std::endl;\n",
    "\n",
    "canvas.hide();\n",
    "AlgoViz::sleep(1000);\n",
    "canvas.show();\n",
    "\n",
    "while(key != \"p\") {\n",
    "    key = canvas.lastKey();\n",
    "    player.keyMovement(key, hit, swordX, swordY);\n",
    "    if (hit == 1){\n",
    "       for (int i = 0; i < 3; i++){\n",
    "           \n",
    "       }\n",
    "    }\n",
    "    hit = 0;\n",
    "}"
   ]
  },
  {
   "cell_type": "code",
   "execution_count": null,
   "id": "2da047ad",
   "metadata": {},
   "outputs": [],
   "source": []
  },
  {
   "cell_type": "code",
   "execution_count": null,
   "id": "1da97797",
   "metadata": {},
   "outputs": [],
   "source": []
  }
 ],
 "metadata": {
  "kernelspec": {
   "display_name": "C++14",
   "language": "C++14",
   "name": "xcpp14"
  },
  "language_info": {
   "codemirror_mode": "text/x-c++src",
   "file_extension": ".cpp",
   "mimetype": "text/x-c++src",
   "name": "c++",
   "version": "14"
  }
 },
 "nbformat": 4,
 "nbformat_minor": 5
}
