{
 "cells": [
  {
   "cell_type": "code",
   "execution_count": 1,
   "id": "f434b1dc",
   "metadata": {},
   "outputs": [],
   "source": [
    "#include <iostream>\n",
    "#include <algoviz/SVG.hpp>\n",
    "#include \"Tile.hpp\"\n",
    "#include \"TileMap.hpp\"\n",
    "#include \"Sprite.hpp\"\n",
    "#include \"Sword.hpp\"\n",
    "#include \"Player.hpp\"\n",
    "#include \"Enemy.hpp\""
   ]
  },
  {
   "cell_type": "code",
   "execution_count": 2,
   "id": "adaf8913",
   "metadata": {},
   "outputs": [],
   "source": [
    "SVG canvas = SVG(1500, 1500, \"CyberCrawler 2077\");\n",
    "TileMap tileMap = TileMap(&canvas);\n",
    "\n",
    "Player player = Player(5, 9, &tileMap, &canvas);\n",
    "Enemy enemy = Enemy(12, 2, &tileMap, &canvas);\n",
    "\n",
    "std::string key = canvas.lastKey();\n",
    "\n",
    "enemy.moveDown();\n",
    "enemy.moveDown();\n",
    "while(key != \"p\") {\n",
    "    key = canvas.lastKey();\n",
    "    player.keyMovement(key);\n",
    "    //key = \"p\";\n",
    "}"
   ]
  }
 ],
 "metadata": {
  "kernelspec": {
   "display_name": "C++14",
   "language": "C++14",
   "name": "xcpp14"
  },
  "language_info": {
   "codemirror_mode": "text/x-c++src",
   "file_extension": ".cpp",
   "mimetype": "text/x-c++src",
   "name": "c++",
   "version": "14"
  }
 },
 "nbformat": 4,
 "nbformat_minor": 5
}
