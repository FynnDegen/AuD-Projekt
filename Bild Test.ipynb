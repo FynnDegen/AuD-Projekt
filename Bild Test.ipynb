{
 "cells": [
  {
   "cell_type": "code",
   "execution_count": 3,
   "id": "414ae4d2",
   "metadata": {},
   "outputs": [],
   "source": [
    "#include <iostream>\n",
    "#include<algoviz/SVG.hpp>\n",
    "\n",
    "SVG test = SVG(500, 500);\n",
    "Image lappen = Image(\"test.png\",100,100,300,300,&test);"
   ]
  },
  {
   "cell_type": "code",
   "execution_count": null,
   "id": "b94f7cd1",
   "metadata": {},
   "outputs": [],
   "source": []
  }
 ],
 "metadata": {
  "kernelspec": {
   "display_name": "C++14",
   "language": "C++14",
   "name": "xcpp14"
  },
  "language_info": {
   "codemirror_mode": "text/x-c++src",
   "file_extension": ".cpp",
   "mimetype": "text/x-c++src",
   "name": "c++",
   "version": "14"
  }
 },
 "nbformat": 4,
 "nbformat_minor": 5
}
